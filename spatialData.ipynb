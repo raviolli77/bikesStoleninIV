{
 "cells": [
  {
   "cell_type": "code",
   "execution_count": 41,
   "metadata": {
    "collapsed": false
   },
   "outputs": [],
   "source": [
    "import gmaps\n",
    "import gmaps.datasets\n",
    "import pandas as pd\n",
    "import numpy as np\n",
    "gmaps.configure(api_key=\"AI...\")"
   ]
  },
  {
   "cell_type": "code",
   "execution_count": 18,
   "metadata": {
    "collapsed": false
   },
   "outputs": [
    {
     "data": {
      "text/html": [
       "<div style=\"max-height:1000px;max-width:1500px;overflow:auto;\">\n",
       "<table border=\"1\" class=\"dataframe\">\n",
       "  <thead>\n",
       "    <tr style=\"text-align: right;\">\n",
       "      <th></th>\n",
       "      <th>fromDate</th>\n",
       "      <th>toDate</th>\n",
       "      <th>fromTime</th>\n",
       "      <th>toTime</th>\n",
       "      <th>Brand</th>\n",
       "      <th>Model</th>\n",
       "      <th>Speed</th>\n",
       "      <th>Color</th>\n",
       "      <th>Location</th>\n",
       "      <th>lat</th>\n",
       "      <th>long</th>\n",
       "    </tr>\n",
       "  </thead>\n",
       "  <tbody>\n",
       "    <tr>\n",
       "      <th>0</th>\n",
       "      <td> 4/20/2014</td>\n",
       "      <td> 4/20/2014</td>\n",
       "      <td>  900</td>\n",
       "      <td> 1200</td>\n",
       "      <td>  URBAN</td>\n",
       "      <td> CRUISER</td>\n",
       "      <td>  1</td>\n",
       "      <td> WHI</td>\n",
       "      <td> 1000 CAMINO PESCADERO </td>\n",
       "      <td> 34.410469</td>\n",
       "      <td>-119.858688</td>\n",
       "    </tr>\n",
       "    <tr>\n",
       "      <th>1</th>\n",
       "      <td>  3/8/2011</td>\n",
       "      <td>  3/8/2011</td>\n",
       "      <td> 1630</td>\n",
       "      <td> 1930</td>\n",
       "      <td>   TREK</td>\n",
       "      <td>  ALLANT</td>\n",
       "      <td>NaN</td>\n",
       "      <td> BLK</td>\n",
       "      <td> 1000 EL EMBARCADERO RD</td>\n",
       "      <td> 34.410216</td>\n",
       "      <td>-119.855947</td>\n",
       "    </tr>\n",
       "    <tr>\n",
       "      <th>2</th>\n",
       "      <td> 6/10/2011</td>\n",
       "      <td> 6/20/2011</td>\n",
       "      <td> 1500</td>\n",
       "      <td> 1000</td>\n",
       "      <td> PFFRAN</td>\n",
       "      <td>  JULIUS</td>\n",
       "      <td>  1</td>\n",
       "      <td> WHI</td>\n",
       "      <td> 1000 EL EMBARCADERO RD</td>\n",
       "      <td> 34.410216</td>\n",
       "      <td>-119.855947</td>\n",
       "    </tr>\n",
       "    <tr>\n",
       "      <th>3</th>\n",
       "      <td>  8/4/2012</td>\n",
       "      <td>  8/5/2012</td>\n",
       "      <td> 2230</td>\n",
       "      <td>  100</td>\n",
       "      <td> RETROS</td>\n",
       "      <td>      58</td>\n",
       "      <td>  1</td>\n",
       "      <td> SIL</td>\n",
       "      <td> 1000 EL EMBARCADERO RD</td>\n",
       "      <td> 34.410216</td>\n",
       "      <td>-119.855947</td>\n",
       "    </tr>\n",
       "    <tr>\n",
       "      <th>4</th>\n",
       "      <td>  8/4/2012</td>\n",
       "      <td>  8/5/2012</td>\n",
       "      <td> 2230</td>\n",
       "      <td>  100</td>\n",
       "      <td>    NaN</td>\n",
       "      <td>     NaN</td>\n",
       "      <td>  1</td>\n",
       "      <td> BLK</td>\n",
       "      <td> 1000 EL EMBARCADERO RD</td>\n",
       "      <td> 34.410216</td>\n",
       "      <td>-119.855947</td>\n",
       "    </tr>\n",
       "  </tbody>\n",
       "</table>\n",
       "<p>5 rows × 11 columns</p>\n",
       "</div>"
      ],
      "text/plain": [
       "    fromDate     toDate  fromTime  toTime   Brand    Model  Speed Color  \\\n",
       "0  4/20/2014  4/20/2014       900    1200   URBAN  CRUISER      1   WHI   \n",
       "1   3/8/2011   3/8/2011      1630    1930    TREK   ALLANT    NaN   BLK   \n",
       "2  6/10/2011  6/20/2011      1500    1000  PFFRAN   JULIUS      1   WHI   \n",
       "3   8/4/2012   8/5/2012      2230     100  RETROS       58      1   SIL   \n",
       "4   8/4/2012   8/5/2012      2230     100     NaN      NaN      1   BLK   \n",
       "\n",
       "                 Location        lat        long  \n",
       "0  1000 CAMINO PESCADERO   34.410469 -119.858688  \n",
       "1  1000 EL EMBARCADERO RD  34.410216 -119.855947  \n",
       "2  1000 EL EMBARCADERO RD  34.410216 -119.855947  \n",
       "3  1000 EL EMBARCADERO RD  34.410216 -119.855947  \n",
       "4  1000 EL EMBARCADERO RD  34.410216 -119.855947  \n",
       "\n",
       "[5 rows x 11 columns]"
      ]
     },
     "execution_count": 18,
     "metadata": {},
     "output_type": "execute_result"
    }
   ],
   "source": [
    "data = pd.read_csv('bikesStolen.csv', sep=',')\n",
    "data.head(5)"
   ]
  },
  {
   "cell_type": "markdown",
   "metadata": {},
   "source": [
    "## Data Wrangling"
   ]
  },
  {
   "cell_type": "code",
   "execution_count": 19,
   "metadata": {
    "collapsed": false
   },
   "outputs": [
    {
     "name": "stdout",
     "output_type": "stream",
     "text": [
      "Here we print out the latitude:\n"
     ]
    },
    {
     "data": {
      "text/plain": [
       "0    34.410469\n",
       "1    34.410216\n",
       "2    34.410216\n",
       "3    34.410216\n",
       "4    34.410216\n",
       "5    34.416437\n",
       "6    34.416437\n",
       "7    34.416437\n",
       "8    34.416437\n",
       "9    34.413791\n",
       "Name: lat, dtype: float64"
      ]
     },
     "execution_count": 19,
     "metadata": {},
     "output_type": "execute_result"
    }
   ],
   "source": [
    "print(\"Here we print out the latitude:\")\n",
    "data['lat'].head(10)"
   ]
  },
  {
   "cell_type": "code",
   "execution_count": 20,
   "metadata": {
    "collapsed": false
   },
   "outputs": [
    {
     "name": "stdout",
     "output_type": "stream",
     "text": [
      "Here we see the longitude:\n"
     ]
    },
    {
     "data": {
      "text/plain": [
       "0   -119.858688\n",
       "1   -119.855947\n",
       "2   -119.855947\n",
       "3   -119.855947\n",
       "4   -119.855947\n",
       "5   -119.853841\n",
       "6   -119.853841\n",
       "7   -119.853841\n",
       "8   -119.853841\n",
       "9   -119.853885\n",
       "Name: long, dtype: float64"
      ]
     },
     "execution_count": 20,
     "metadata": {},
     "output_type": "execute_result"
    }
   ],
   "source": [
    "print(\"Here we see the longitude:\")\n",
    "data['long'].head(10)"
   ]
  },
  {
   "cell_type": "code",
   "execution_count": 21,
   "metadata": {
    "collapsed": false
   },
   "outputs": [
    {
     "name": "stdout",
     "output_type": "stream",
     "text": [
      "0   -119.858688\n",
      "1   -119.855947\n",
      "2   -119.855947\n",
      "3   -119.855947\n",
      "4   -119.855947\n",
      "5   -119.853841\n",
      "6   -119.853841\n",
      "7   -119.853841\n",
      "8   -119.853841\n",
      "9   -119.853885\n",
      "Name: long, dtype: float64\n",
      "0    34.410469\n",
      "1    34.410216\n",
      "2    34.410216\n",
      "3    34.410216\n",
      "4    34.410216\n",
      "5    34.416437\n",
      "6    34.416437\n",
      "7    34.416437\n",
      "8    34.416437\n",
      "9    34.413791\n",
      "Name: lat, dtype: float64\n"
     ]
    }
   ],
   "source": [
    "longData = data['long']\n",
    "print(longData.head(10))\n",
    "latData = data['lat']\n",
    "print(latData.head(10))"
   ]
  },
  {
   "cell_type": "code",
   "execution_count": 40,
   "metadata": {
    "collapsed": false
   },
   "outputs": [
    {
     "name": "stdout",
     "output_type": "stream",
     "text": [
      "          lat        long\n",
      "896  34.41309 -119.855377\n",
      "897       NaN         NaN\n",
      "898       NaN         NaN\n",
      "899       NaN         NaN\n",
      "900       NaN         NaN\n",
      "901       NaN         NaN\n",
      "902       NaN         NaN\n",
      "903       NaN         NaN\n",
      "904       NaN         NaN\n",
      "905       NaN         NaN\n",
      "906       NaN         NaN\n",
      "907       NaN         NaN\n",
      "908       NaN         NaN\n",
      "909       NaN         NaN\n",
      "910       NaN         NaN\n",
      "911       NaN         NaN\n",
      "912       NaN         NaN\n",
      "913       NaN         NaN\n",
      "914       NaN         NaN\n",
      "915       NaN         NaN\n",
      "916       NaN         NaN\n",
      "917       NaN         NaN\n",
      "918       NaN         NaN\n",
      "919       NaN         NaN\n",
      "920       NaN         NaN\n",
      "921       NaN         NaN\n",
      "922       NaN         NaN\n",
      "923       NaN         NaN\n",
      "924       NaN         NaN\n",
      "925       NaN         NaN\n",
      "926       NaN         NaN\n",
      "927       NaN         NaN\n",
      "928       NaN         NaN\n",
      "929       NaN         NaN\n",
      "930       NaN         NaN\n",
      "931       NaN         NaN\n",
      "932       NaN         NaN\n",
      "933       NaN         NaN\n",
      "934       NaN         NaN\n",
      "935       NaN         NaN\n",
      "936       NaN         NaN\n",
      "937       NaN         NaN\n",
      "938       NaN         NaN\n",
      "939       NaN         NaN\n",
      "\n",
      "[44 rows x 2 columns]\n",
      "           lat        long\n",
      "887  34.412933 -119.856823\n",
      "888  34.412933 -119.856823\n",
      "889  34.412933 -119.856823\n",
      "890  34.412933 -119.856823\n",
      "891  34.413090 -119.855377\n",
      "892  34.413090 -119.855377\n",
      "893  34.413090 -119.855377\n",
      "894  34.413090 -119.855377\n",
      "895  34.413090 -119.855377\n",
      "896  34.413090 -119.855377\n",
      "\n",
      "[10 rows x 2 columns]\n",
      "[(34.410215999999998, -119.855947), (34.410215999999998, -119.855947), (34.410215999999998, -119.855947), (34.410215999999998, -119.855947), (34.416437000000002, -119.85384099999999), (34.416437000000002, -119.85384099999999), (34.416437000000002, -119.85384099999999), (34.416437000000002, -119.85384099999999), (34.413790999999996, -119.85388500000001)]\n"
     ]
    }
   ],
   "source": [
    "# data.loc[:,['lat', 'long']] = data[['lat', 'long']].values\n",
    "spatData = data[['lat', 'long']]\n",
    "print(spatData.tail(44))\n",
    "# We should remove all these null values first \n",
    "spatData = spatData.dropna()\n",
    "print(spatData.tail(10))\n",
    "tuples = [tuple(x) for x in spatData.values]\n",
    "print(tuples[1:10])"
   ]
  },
  {
   "cell_type": "code",
   "execution_count": 81,
   "metadata": {
    "collapsed": false
   },
   "outputs": [],
   "source": [
    "m = gmaps.Map()\n",
    "heatmap_layer = gmaps.Heatmap(data=tuples)\n",
    "m.add_layer(heatmap_layer)\n",
    "m"
   ]
  },
  {
   "cell_type": "code",
   "execution_count": 82,
   "metadata": {
    "collapsed": false
   },
   "outputs": [],
   "source": [
    "# Adding A E S T H E T I C S\n",
    "heatmap_layer.max_intensity = 50\n",
    "heatmap_layer.point_radius = 50\n",
    "heatmap_layer.gradient = [\n",
    "    (200, 200, 200, 0.3),\n",
    "    'blue',\n",
    "    'red'\n",
    "]"
   ]
  },
  {
   "cell_type": "code",
   "execution_count": 83,
   "metadata": {
    "collapsed": false
   },
   "outputs": [],
   "source": [
    "tuples_layer = gmaps.symbol_layer(\n",
    "    tuples, fill_color=\"red\", stroke_color=\"red\", scale=2\n",
    ")\n",
    "r = gmaps.Map()\n",
    "r.add_layer(tuples_layer)\n",
    "r"
   ]
  },
  {
   "cell_type": "code",
   "execution_count": null,
   "metadata": {
    "collapsed": true
   },
   "outputs": [],
   "source": []
  }
 ],
 "metadata": {
  "anaconda-cloud": {},
  "kernelspec": {
   "display_name": "Python 2",
   "language": "python",
   "name": "python2"
  },
  "language_info": {
   "codemirror_mode": {
    "name": "ipython",
    "version": 2
   },
   "file_extension": ".py",
   "mimetype": "text/x-python",
   "name": "python",
   "nbconvert_exporter": "python",
   "pygments_lexer": "ipython2",
   "version": "2.7.6"
  },
  "widgets": {
   "state": {
    "a2ea7a58d5d7477eb2d97dd798253035": {
     "views": [
      {
       "cell_index": 10
      }
     ]
    },
    "d99f9122b3ef42bf98cfab0e5b683602": {
     "views": [
      {
       "cell_index": 8
      }
     ]
    }
   },
   "version": "1.2.0"
  }
 },
 "nbformat": 4,
 "nbformat_minor": 1
}
