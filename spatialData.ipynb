{
 "cells": [
  {
   "cell_type": "markdown",
   "metadata": {},
   "source": [
    "# Spatial Data using gmaps and Jupyter notebook \n",
    "We created this seperate notebook because we saw that the module `gmaps` works best at creating simple spatial data. This notebook is used to show the comparisons to **R** and **Python** "
   ]
  },
  {
   "cell_type": "code",
   "execution_count": 1,
   "metadata": {
    "collapsed": false
   },
   "outputs": [],
   "source": [
    "import gmaps\n",
    "import gmaps.datasets\n",
    "import pandas as pd\n",
    "import numpy as np\n",
    "gmaps.configure(api_key=\"AI...\")"
   ]
  },
  {
   "cell_type": "code",
   "execution_count": 2,
   "metadata": {
    "collapsed": false,
    "scrolled": true
   },
   "outputs": [
    {
     "data": {
      "text/html": [
       "<div>\n",
       "<table border=\"1\" class=\"dataframe\">\n",
       "  <thead>\n",
       "    <tr style=\"text-align: right;\">\n",
       "      <th></th>\n",
       "      <th>fromDate</th>\n",
       "      <th>toDate</th>\n",
       "      <th>fromTime</th>\n",
       "      <th>toTime</th>\n",
       "      <th>Brand</th>\n",
       "      <th>Model</th>\n",
       "      <th>Speed</th>\n",
       "      <th>Color</th>\n",
       "      <th>Location</th>\n",
       "      <th>lat</th>\n",
       "      <th>long</th>\n",
       "    </tr>\n",
       "  </thead>\n",
       "  <tbody>\n",
       "    <tr>\n",
       "      <th>0</th>\n",
       "      <td>4/20/2014</td>\n",
       "      <td>4/20/2014</td>\n",
       "      <td>900</td>\n",
       "      <td>1200</td>\n",
       "      <td>URBAN</td>\n",
       "      <td>CRUISER</td>\n",
       "      <td>1.0</td>\n",
       "      <td>WHI</td>\n",
       "      <td>1000 CAMINO PESCADERO</td>\n",
       "      <td>34.410469</td>\n",
       "      <td>-119.858688</td>\n",
       "    </tr>\n",
       "    <tr>\n",
       "      <th>1</th>\n",
       "      <td>3/8/2011</td>\n",
       "      <td>3/8/2011</td>\n",
       "      <td>1630</td>\n",
       "      <td>1930</td>\n",
       "      <td>TREK</td>\n",
       "      <td>ALLANT</td>\n",
       "      <td>NaN</td>\n",
       "      <td>BLK</td>\n",
       "      <td>1000 EL EMBARCADERO RD</td>\n",
       "      <td>34.410216</td>\n",
       "      <td>-119.855947</td>\n",
       "    </tr>\n",
       "    <tr>\n",
       "      <th>2</th>\n",
       "      <td>6/10/2011</td>\n",
       "      <td>6/20/2011</td>\n",
       "      <td>1500</td>\n",
       "      <td>1000</td>\n",
       "      <td>PFFRAN</td>\n",
       "      <td>JULIUS</td>\n",
       "      <td>1.0</td>\n",
       "      <td>WHI</td>\n",
       "      <td>1000 EL EMBARCADERO RD</td>\n",
       "      <td>34.410216</td>\n",
       "      <td>-119.855947</td>\n",
       "    </tr>\n",
       "    <tr>\n",
       "      <th>3</th>\n",
       "      <td>8/4/2012</td>\n",
       "      <td>8/5/2012</td>\n",
       "      <td>2230</td>\n",
       "      <td>100</td>\n",
       "      <td>RETROS</td>\n",
       "      <td>58</td>\n",
       "      <td>1.0</td>\n",
       "      <td>SIL</td>\n",
       "      <td>1000 EL EMBARCADERO RD</td>\n",
       "      <td>34.410216</td>\n",
       "      <td>-119.855947</td>\n",
       "    </tr>\n",
       "    <tr>\n",
       "      <th>4</th>\n",
       "      <td>8/4/2012</td>\n",
       "      <td>8/5/2012</td>\n",
       "      <td>2230</td>\n",
       "      <td>100</td>\n",
       "      <td>NaN</td>\n",
       "      <td>NaN</td>\n",
       "      <td>1.0</td>\n",
       "      <td>BLK</td>\n",
       "      <td>1000 EL EMBARCADERO RD</td>\n",
       "      <td>34.410216</td>\n",
       "      <td>-119.855947</td>\n",
       "    </tr>\n",
       "    <tr>\n",
       "      <th>5</th>\n",
       "      <td>10/22/2011</td>\n",
       "      <td>10/24/2011</td>\n",
       "      <td>30</td>\n",
       "      <td>1230</td>\n",
       "      <td>K2</td>\n",
       "      <td>ZED 2.0</td>\n",
       "      <td>21.0</td>\n",
       "      <td>GRY</td>\n",
       "      <td>6500 CERVANTES RD</td>\n",
       "      <td>34.416437</td>\n",
       "      <td>-119.853841</td>\n",
       "    </tr>\n",
       "    <tr>\n",
       "      <th>6</th>\n",
       "      <td>3/23/2012</td>\n",
       "      <td>9/23/2012</td>\n",
       "      <td>900</td>\n",
       "      <td>900</td>\n",
       "      <td>JEEP</td>\n",
       "      <td>CHEROKEE</td>\n",
       "      <td>12.0</td>\n",
       "      <td>RED</td>\n",
       "      <td>6500 CERVANTES RD</td>\n",
       "      <td>34.416437</td>\n",
       "      <td>-119.853841</td>\n",
       "    </tr>\n",
       "  </tbody>\n",
       "</table>\n",
       "</div>"
      ],
      "text/plain": [
       "     fromDate      toDate  fromTime  toTime   Brand     Model  Speed Color  \\\n",
       "0   4/20/2014   4/20/2014       900    1200   URBAN   CRUISER    1.0   WHI   \n",
       "1    3/8/2011    3/8/2011      1630    1930    TREK    ALLANT    NaN   BLK   \n",
       "2   6/10/2011   6/20/2011      1500    1000  PFFRAN    JULIUS    1.0   WHI   \n",
       "3    8/4/2012    8/5/2012      2230     100  RETROS        58    1.0   SIL   \n",
       "4    8/4/2012    8/5/2012      2230     100     NaN       NaN    1.0   BLK   \n",
       "5  10/22/2011  10/24/2011        30    1230      K2   ZED 2.0   21.0   GRY   \n",
       "6   3/23/2012   9/23/2012       900     900    JEEP  CHEROKEE   12.0   RED   \n",
       "\n",
       "                 Location        lat        long  \n",
       "0  1000 CAMINO PESCADERO   34.410469 -119.858688  \n",
       "1  1000 EL EMBARCADERO RD  34.410216 -119.855947  \n",
       "2  1000 EL EMBARCADERO RD  34.410216 -119.855947  \n",
       "3  1000 EL EMBARCADERO RD  34.410216 -119.855947  \n",
       "4  1000 EL EMBARCADERO RD  34.410216 -119.855947  \n",
       "5       6500 CERVANTES RD  34.416437 -119.853841  \n",
       "6       6500 CERVANTES RD  34.416437 -119.853841  "
      ]
     },
     "execution_count": 2,
     "metadata": {},
     "output_type": "execute_result"
    }
   ],
   "source": [
    "bikesStolen = pd.read_csv('bikesStolen.csv', sep=',')\n",
    "bikesStolen.head(7)"
   ]
  },
  {
   "cell_type": "markdown",
   "metadata": {},
   "source": [
    "## Data Wrangling\n",
    "\n",
    "For this section we are only interesting in Spatial data (we went ahead and did data wrangling in the actual script, but to show the immediate results that makes sense and straightforward"
   ]
  },
  {
   "cell_type": "code",
   "execution_count": 55,
   "metadata": {
    "collapsed": false
   },
   "outputs": [
    {
     "name": "stdout",
     "output_type": "stream",
     "text": [
      "          lat        long\n",
      "896  34.41309 -119.855377\n",
      "897       NaN         NaN\n",
      "898       NaN         NaN\n",
      "899       NaN         NaN\n",
      "900       NaN         NaN\n",
      "901       NaN         NaN\n",
      "902       NaN         NaN\n",
      "903       NaN         NaN\n",
      "904       NaN         NaN\n",
      "905       NaN         NaN\n",
      "906       NaN         NaN\n",
      "907       NaN         NaN\n",
      "908       NaN         NaN\n",
      "909       NaN         NaN\n",
      "910       NaN         NaN\n",
      "911       NaN         NaN\n",
      "912       NaN         NaN\n",
      "913       NaN         NaN\n",
      "914       NaN         NaN\n",
      "915       NaN         NaN\n",
      "916       NaN         NaN\n",
      "917       NaN         NaN\n",
      "918       NaN         NaN\n",
      "919       NaN         NaN\n",
      "920       NaN         NaN\n",
      "921       NaN         NaN\n",
      "922       NaN         NaN\n",
      "923       NaN         NaN\n",
      "924       NaN         NaN\n",
      "925       NaN         NaN\n",
      "926       NaN         NaN\n",
      "927       NaN         NaN\n",
      "928       NaN         NaN\n",
      "929       NaN         NaN\n",
      "930       NaN         NaN\n",
      "931       NaN         NaN\n",
      "932       NaN         NaN\n",
      "933       NaN         NaN\n",
      "934       NaN         NaN\n",
      "935       NaN         NaN\n",
      "936       NaN         NaN\n",
      "937       NaN         NaN\n",
      "938       NaN         NaN\n",
      "939       NaN         NaN\n",
      "           lat        long\n",
      "887  34.412933 -119.856823\n",
      "888  34.412933 -119.856823\n",
      "889  34.412933 -119.856823\n",
      "890  34.412933 -119.856823\n",
      "891  34.413090 -119.855377\n",
      "892  34.413090 -119.855377\n",
      "893  34.413090 -119.855377\n",
      "894  34.413090 -119.855377\n",
      "895  34.413090 -119.855377\n",
      "896  34.413090 -119.855377\n",
      "[(34.410215999999998, -119.855947), (34.410215999999998, -119.855947), (34.410215999999998, -119.855947), (34.410215999999998, -119.855947), (34.416437000000002, -119.85384099999999), (34.416437000000002, -119.85384099999999), (34.416437000000002, -119.85384099999999), (34.416437000000002, -119.85384099999999), (34.413790999999996, -119.85388500000001)]\n"
     ]
    }
   ],
   "source": [
    "spatData = bikesStolen[['lat', 'long']] # Here we extract the latitude and longitude\n",
    "print(spatData.tail(44))\n",
    "# We should remove all these null values first \n",
    "spatData = spatData.dropna()\n",
    "print(spatData.tail(10))\n",
    "tuples = [tuple(x) for x in spatData.values] # Used to convert the data frame into a tuple\n",
    "print(tuples[1:10])"
   ]
  },
  {
   "cell_type": "markdown",
   "metadata": {},
   "source": [
    "## Representing Spatial Data"
   ]
  },
  {
   "cell_type": "code",
   "execution_count": 51,
   "metadata": {
    "collapsed": false
   },
   "outputs": [],
   "source": [
    "tuples_layer = gmaps.symbol_layer(\n",
    "    tuples, fill_color=\"red\", stroke_color=\"red\", scale=4\n",
    ")\n",
    "r = gmaps.Map()\n",
    "r.add_layer(tuples_layer)\n",
    "r"
   ]
  },
  {
   "cell_type": "markdown",
   "metadata": {},
   "source": [
    "![test](images/initialSpatialPlot.png)"
   ]
  },
  {
   "cell_type": "markdown",
   "metadata": {},
   "source": [
    "Gives us a decent overview but we felt as though heatmaps would do better at representing our data. "
   ]
  },
  {
   "cell_type": "markdown",
   "metadata": {},
   "source": [
    "## Heatmap"
   ]
  },
  {
   "cell_type": "code",
   "execution_count": 8,
   "metadata": {
    "collapsed": false
   },
   "outputs": [],
   "source": [
    "m = gmaps.Map()\n",
    "heatmap_layer = gmaps.Heatmap(data=tuples)\n",
    "m.add_layer(heatmap_layer)\n",
    "m"
   ]
  },
  {
   "cell_type": "markdown",
   "metadata": {},
   "source": [
    "![title](images/spatialDataHeatMapPy.png)"
   ]
  },
  {
   "cell_type": "code",
   "execution_count": 57,
   "metadata": {
    "collapsed": false
   },
   "outputs": [],
   "source": [
    "# Adding A E S T H E T I C S\n",
    "# Was recommended to add in a seperate cell so we won't have to constant call google API everytime we want to \n",
    "# customize the plots\n",
    "heatmap_layer.max_intensity = 50\n",
    "heatmap_layer.point_radius = 50\n",
    "heatmap_layer.gradient = [\n",
    "    (200, 200, 200, 0.3),\n",
    "    'blue',\n",
    "    '#3299CC'\n",
    "]"
   ]
  },
  {
   "cell_type": "markdown",
   "metadata": {},
   "source": [
    "## Plotting more bicycle related data\n",
    "\n",
    "This data set was compiled by Kevin Jin and as attributes such as dangerous spots to ride bike in within the University of California, Santa Barbara."
   ]
  },
  {
   "cell_type": "code",
   "execution_count": 58,
   "metadata": {
    "collapsed": false
   },
   "outputs": [
    {
     "data": {
      "text/html": [
       "<div>\n",
       "<table border=\"1\" class=\"dataframe\">\n",
       "  <thead>\n",
       "    <tr style=\"text-align: right;\">\n",
       "      <th></th>\n",
       "      <th>Description</th>\n",
       "      <th>Latitude</th>\n",
       "      <th>Longitude</th>\n",
       "    </tr>\n",
       "  </thead>\n",
       "  <tbody>\n",
       "    <tr>\n",
       "      <th>0</th>\n",
       "      <td>dangSpot</td>\n",
       "      <td>34.417634</td>\n",
       "      <td>-119.853439</td>\n",
       "    </tr>\n",
       "    <tr>\n",
       "      <th>1</th>\n",
       "      <td>dangSpot</td>\n",
       "      <td>34.417634</td>\n",
       "      <td>-119.853439</td>\n",
       "    </tr>\n",
       "    <tr>\n",
       "      <th>2</th>\n",
       "      <td>dangSpot</td>\n",
       "      <td>34.413042</td>\n",
       "      <td>-119.853583</td>\n",
       "    </tr>\n",
       "    <tr>\n",
       "      <th>3</th>\n",
       "      <td>dangSpot</td>\n",
       "      <td>34.413042</td>\n",
       "      <td>-119.853583</td>\n",
       "    </tr>\n",
       "    <tr>\n",
       "      <th>4</th>\n",
       "      <td>dangSpot</td>\n",
       "      <td>34.413042</td>\n",
       "      <td>-119.853583</td>\n",
       "    </tr>\n",
       "  </tbody>\n",
       "</table>\n",
       "</div>"
      ],
      "text/plain": [
       "  Description   Latitude   Longitude\n",
       "0    dangSpot  34.417634 -119.853439\n",
       "1    dangSpot  34.417634 -119.853439\n",
       "2    dangSpot  34.413042 -119.853583\n",
       "3    dangSpot  34.413042 -119.853583\n",
       "4    dangSpot  34.413042 -119.853583"
      ]
     },
     "execution_count": 58,
     "metadata": {},
     "output_type": "execute_result"
    }
   ],
   "source": [
    "data = pd.read_csv('BikenBlast.csv', sep=',')\n",
    "data.head()"
   ]
  },
  {
   "cell_type": "code",
   "execution_count": 59,
   "metadata": {
    "collapsed": false
   },
   "outputs": [
    {
     "data": {
      "text/plain": [
       "[(34.417634, -119.85343899999999),\n",
       " (34.413041999999997, -119.853583),\n",
       " (34.413041999999997, -119.853583),\n",
       " (34.413041999999997, -119.853583),\n",
       " (34.411425999999999, -119.85318500000001),\n",
       " (34.411425999999999, -119.85318500000001),\n",
       " (34.413027, -119.85196100000002),\n",
       " (34.413027, -119.85196100000002),\n",
       " (34.413027, -119.85196100000002)]"
      ]
     },
     "execution_count": 59,
     "metadata": {},
     "output_type": "execute_result"
    }
   ],
   "source": [
    "# Create a tuple for the latitude and longitude\n",
    "bikeNBlast = data[['Latitude', 'Longitude']]\n",
    "bikeNBlastTuples = [tuple(x) for x in bikeNBlast.values]\n",
    "bikeNBlastTuples[1:10]"
   ]
  },
  {
   "cell_type": "markdown",
   "metadata": {},
   "source": [
    "tuples_layer2 = gmaps.symbol_layer(\n",
    "    bikeNBlastTuples, fill_color=\"red\", stroke_color=\"red\", scale=2\n",
    ")\n",
    "s = gmaps.Map()\n",
    "s.add_layer(tuples_layer2)\n",
    "s"
   ]
  },
  {
   "cell_type": "markdown",
   "metadata": {},
   "source": [
    "![text](images/initialGmap.png)\n",
    "\n",
    "## Specifying Description to Color Code Plot"
   ]
  },
  {
   "cell_type": "code",
   "execution_count": 53,
   "metadata": {
    "collapsed": false
   },
   "outputs": [
    {
     "name": "stdout",
     "output_type": "stream",
     "text": [
      "Dangerous Spots:\n",
      "[(34.417634, -119.85343899999999), (34.413041999999997, -119.853583), (34.413041999999997, -119.853583), (34.413041999999997, -119.853583), (34.411425999999999, -119.85318500000001), (34.411425999999999, -119.85318500000001), (34.413027, -119.85196100000002), (34.413027, -119.85196100000002), (34.413027, -119.85196100000002)]\n",
      "Small Obstructions:\n",
      "[(34.415083000000003, -119.85346499999999), (34.414512999999999, -119.85355800000001), (34.413041999999997, -119.853583), (34.411301000000002, -119.851743), (34.414547999999996, -119.852474), (34.414547999999996, -119.852474), (34.414547999999996, -119.852474), (34.414547999999996, -119.852474), (34.413027, -119.85196100000002)]\n",
      "Good Spots:\n",
      "[(34.417501999999999, -119.85465900000001), (34.410928999999996, -119.851803), (34.409680000000002, -119.85041299999999), (34.409295, -119.850424), (34.409560999999997, -119.85089599999999), (34.408498999999999, -119.850424), (34.407826, -119.84971100000001), (34.413004999999998, -119.85091499999999), (34.412951, -119.85030800000001)]\n",
      "More Racks:\n",
      "[(34.409905999999999, -119.85246799999999), (34.409905999999999, -119.85246799999999), (34.409179999999999, -119.852999), (34.412671000000003, -119.85204399999999), (34.412671000000003, -119.85204399999999), (34.412907000000004, -119.849222), (34.413327000000002, -119.849622), (34.413052, -119.84819099999999), (34.413052, -119.84819099999999)]\n"
     ]
    }
   ],
   "source": [
    "# Again a for loop would reduce code significantly\n",
    "dangerSpot = data[data['Description'] == 'dangSpot']\n",
    "dangerSpot = dangerSpot[['Latitude', 'Longitude']]\n",
    "dangerSpotTuple = [tuple(x) for x in dangerSpot.values]\n",
    "print(\"Dangerous Spots:\")\n",
    "print(dangerSpotTuple[1:10])\n",
    "\n",
    "smallObst = data[data['Description'] == 'smallObst']\n",
    "smallObst = smallObst[['Latitude', 'Longitude']]\n",
    "smallObstTuple = [tuple(x) for x in smallObst.values]\n",
    "print(\"Small Obstructions:\")\n",
    "print(smallObstTuple[1:10])\n",
    "\n",
    "goodSpot = data[data['Description'] == 'goodSpot']\n",
    "goodSpot = goodSpot[['Latitude', 'Longitude']]\n",
    "goodSpotTuple = [tuple(x) for x in goodSpot.values]\n",
    "print(\"Good Spots:\")\n",
    "print(goodSpotTuple[1:10])\n",
    "\n",
    "moreRack = data[data['Description'] == 'moreRack']\n",
    "moreRack = moreRack[['Latitude', 'Longitude']]\n",
    "moreRackTuple = [tuple(x) for x in moreRack.values]\n",
    "print(\"More Racks:\")\n",
    "print(moreRackTuple[1:10])\n"
   ]
  },
  {
   "cell_type": "code",
   "execution_count": 54,
   "metadata": {
    "collapsed": false
   },
   "outputs": [],
   "source": [
    "tuples_layerA = gmaps.symbol_layer(\n",
    "    dangerSpotTuple, fill_color=\"red\", stroke_color=\"red\", scale=3\n",
    ")\n",
    "\n",
    "tuples_layerB = gmaps.symbol_layer(\n",
    "    smallObstTuple, fill_color=\"blue\", stroke_color=\"blue\", scale=3\n",
    ")\n",
    "\n",
    "tuples_layerC = gmaps.symbol_layer(\n",
    "    goodSpotTuple, fill_color=\"green\", stroke_color=\"green\", scale=3\n",
    ")\n",
    "\n",
    "tuples_layerD = gmaps.symbol_layer(\n",
    "    moreRackTuple, fill_color=\"yellow\", stroke_color=\"yellow\", scale=3\n",
    ")\n",
    "t = gmaps.Map()\n",
    "t.add_layer(tuples_layerA)\n",
    "t.add_layer(tuples_layerB)\n",
    "t.add_layer(tuples_layerC)\n",
    "t.add_layer(tuples_layerD)\n",
    "t"
   ]
  },
  {
   "cell_type": "markdown",
   "metadata": {},
   "source": [
    "![title](images/Locations.png)\n",
    "\n",
    "| Descripton | Color |\n",
    "|------------|-------|\n",
    "| Dangerous Spots | Red |\n",
    "| Small Obstructions | Blue | \n",
    "| Good Spot | Green |\n",
    "| Bicycle Racks | Yellow |"
   ]
  },
  {
   "cell_type": "markdown",
   "metadata": {},
   "source": [
    "## What's next\n",
    "We can create plots for the specific years like we did in the spatialData (found here: \n"
   ]
  }
 ],
 "metadata": {
  "anaconda-cloud": {},
  "kernelspec": {
   "display_name": "Python [conda env:puto]",
   "language": "python",
   "name": "conda-env-puto-py"
  },
  "language_info": {
   "codemirror_mode": {
    "name": "ipython",
    "version": 3
   },
   "file_extension": ".py",
   "mimetype": "text/x-python",
   "name": "python",
   "nbconvert_exporter": "python",
   "pygments_lexer": "ipython3",
   "version": "3.5.2"
  },
  "widgets": {
   "state": {
    "12b654a7a1f9414dbaea942ae4abac7e": {
     "views": [
      {
       "cell_index": 19
      }
     ]
    },
    "78a8647a37fc416bb7949c18e7c9a8fe": {
     "views": [
      {
       "cell_index": 7
      }
     ]
    },
    "9f48976dcebf47458ede4b32a7bab56f": {
     "views": [
      {
       "cell_index": 15
      }
     ]
    },
    "ca83252db1ba47b8ba93d89958065b35": {
     "views": [
      {
       "cell_index": 8
      }
     ]
    }
   },
   "version": "1.2.0"
  }
 },
 "nbformat": 4,
 "nbformat_minor": 1
}
